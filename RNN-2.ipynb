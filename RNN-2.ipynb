{
 "cells": [
  {
   "cell_type": "code",
   "execution_count": 1,
   "metadata": {},
   "outputs": [
    {
     "name": "stderr",
     "output_type": "stream",
     "text": [
      "C:\\Users\\ksvorcan\\AppData\\Local\\Continuum\\anaconda3\\lib\\site-packages\\h5py\\__init__.py:36: FutureWarning: Conversion of the second argument of issubdtype from `float` to `np.floating` is deprecated. In future, it will be treated as `np.float64 == np.dtype(float).type`.\n",
      "  from ._conv import register_converters as _register_converters\n",
      "Using TensorFlow backend.\n",
      "C:\\Users\\ksvorcan\\AppData\\Local\\Continuum\\anaconda3\\lib\\site-packages\\gensim\\utils.py:1212: UserWarning: detected Windows; aliasing chunkize to chunkize_serial\n",
      "  warnings.warn(\"detected Windows; aliasing chunkize to chunkize_serial\")\n"
     ]
    }
   ],
   "source": [
    "import pandas as pd\n",
    "import numpy as np\n",
    "from keras.preprocessing.text import Tokenizer\n",
    "from keras.preprocessing.sequence import pad_sequences\n",
    "from keras.layers import Dense, Embedding, LSTM, SpatialDropout1D\n",
    "from keras.layers.recurrent import LSTM\n",
    "from keras.layers.embeddings import Embedding\n",
    "from keras.models import Model, Sequential\n",
    "from keras.layers import Dense, Activation, Flatten\n",
    "import gensim\n",
    "from gensim.models.word2vec import Word2Vec\n",
    "from sklearn.model_selection import train_test_split\n",
    "from sklearn.metrics import roc_auc_score\n",
    "from keras.models import load_model\n",
    "from keras.callbacks import EarlyStopping\n",
    "from keras import backend as K"
   ]
  },
  {
   "cell_type": "markdown",
   "metadata": {},
   "source": [
    "All tweets "
   ]
  },
  {
   "cell_type": "code",
   "execution_count": 2,
   "metadata": {},
   "outputs": [],
   "source": [
    "data_embeddings1 = pd.read_csv(\"tweets_50k_all.csv\", header = None, index_col = False)\n",
    "data_embeddings1.columns = [\"index\",\"text\"]\n",
    "\n",
    "data_embeddings2 = pd.read_csv(\"tweets_70k_all.csv\", header = None, index_col = False)\n",
    "data_embeddings2.columns = [\"index\",\"text\"]"
   ]
  },
  {
   "cell_type": "code",
   "execution_count": 3,
   "metadata": {},
   "outputs": [],
   "source": [
    "data_embeddings = pd.concat([data_embeddings1,data_embeddings2.iloc[1:]])"
   ]
  },
  {
   "cell_type": "markdown",
   "metadata": {},
   "source": [
    "Labeled tweets"
   ]
  },
  {
   "cell_type": "code",
   "execution_count": 4,
   "metadata": {},
   "outputs": [],
   "source": [
    "data = pd.read_csv(\"tweets_50k_labeled.csv\", header = None, index_col = False)\n",
    "data.columns = [\"text\",\"label\"]"
   ]
  },
  {
   "cell_type": "markdown",
   "metadata": {},
   "source": [
    "Cleaning all tweets"
   ]
  },
  {
   "cell_type": "code",
   "execution_count": 5,
   "metadata": {},
   "outputs": [],
   "source": [
    "def cleaning1(tweet):\n",
    "    return ' '.join(word for word in tweet.split(' ') if not word.startswith('#') and not word.startswith('@') and not \"&gt\" in word and not 'http' in word and not word.startswith('rt') and not \"&amp\" in word)\n",
    "\n",
    "def cleaning2(tweet):\n",
    "    return tweet.replace(\",\", \" \").replace(\"...\",\" \").replace(\"\\\"\",\" \").replace(\"/\",\" \").replace(\".\",\" \").replace(\":\",\" \").replace(\"!\",\" \").replace(\"?\",\" \").replace(\";\",\" \").replace(\"-\",\" \").replace(\"\\r\\n\",\" \").replace(\"  \",\" \")\n",
    "\n",
    "def cleaning3(tweet):\n",
    "    return tweet.replace(\"č\",\"c\").replace(\"ć\",\"c\").replace(\"š\",\"s\").replace(\"đ\",\"dj\").replace(\"ž\",\"z\")\n",
    "\n",
    "def cleaning4(tweet):\n",
    "    return tweet.replace(\"а\",\"a\").replace(\"б\",\"b\").replace(\"в\",\"v\").replace(\"г\",\"g\").replace(\"д\",\"d\").replace(\"ђ\",\"dj\").replace(\"е\",\"e\").replace(\"ж\",\"z\").replace(\"з\",\"z\").replace(\"и\",\"i\").replace(\"ј\",\"j\").replace(\"к\",\"k\").replace(\"л\",\"l\").replace(\"љ\",\"lj\").replace(\"м\",\"m\").replace(\"н\",\"n\").replace(\"њ\",\"nj\").replace(\"о\",\"o\").replace(\"п\",\"p\").replace(\"р\",\"r\").replace(\"с\",\"s\").replace(\"т\",\"t\").replace(\"ћ\",\"c\").replace(\"у\",\"u\").replace(\"ф\",\"f\").replace(\"х\",\"h\").replace(\"ц\",\"c\").replace(\"ч\",\"c\").replace(\"џ\",\"dz\").replace(\"ш\",\"s\")\n",
    "\n",
    "def cleaning5(tweet):\n",
    "    if \"ā\" in tweet or \"y\" in tweet or \"ç\" in tweet or \"ы\" in tweet or \"й\" in tweet or \"ę\" in tweet or \"ż\" in tweet or \"ý\" in tweet or \"ě\" in tweet or \"á\" in tweet or \"щ\" in tweet or \"ь\" in tweet or \"ą\" in tweet or \"ю\" in tweet or \"w\" in tweet or \"ø\" in tweet or \"æ\" in tweet or \"å\" in tweet or \"я\" in tweet:\n",
    "        return(\"\")\n",
    "    else:\n",
    "        return(tweet)\n",
    "    \n",
    "def tweet_cleaning(tweet):\n",
    "    return cleaning5(cleaning4(cleaning3(cleaning2(cleaning1(tweet)))))"
   ]
  },
  {
   "cell_type": "code",
   "execution_count": 6,
   "metadata": {},
   "outputs": [],
   "source": [
    "data.text = [tweet_cleaning(x.lower()) for x in np.array(data.text)]"
   ]
  },
  {
   "cell_type": "code",
   "execution_count": 7,
   "metadata": {},
   "outputs": [],
   "source": [
    "data_embeddings.text = [tweet_cleaning(x.lower()) for x in np.array(data_embeddings.text)]"
   ]
  },
  {
   "cell_type": "code",
   "execution_count": null,
   "metadata": {},
   "outputs": [],
   "source": []
  },
  {
   "cell_type": "markdown",
   "metadata": {},
   "source": [
    "Learning Word2vec model (CBOW based)"
   ]
  },
  {
   "cell_type": "code",
   "execution_count": 8,
   "metadata": {},
   "outputs": [],
   "source": [
    "sentences = list()\n",
    "for tweet in data_embeddings['text']:\n",
    "    sentences.append(tweet.split(sep = \" \"))"
   ]
  },
  {
   "cell_type": "code",
   "execution_count": 9,
   "metadata": {},
   "outputs": [],
   "source": [
    "tweet_w2v_cbow = Word2Vec(\n",
    "        sentences,\n",
    "        size=300,\n",
    "        window=5,\n",
    "        min_count=1,\n",
    "        workers=10)"
   ]
  },
  {
   "cell_type": "code",
   "execution_count": 10,
   "metadata": {},
   "outputs": [
    {
     "name": "stderr",
     "output_type": "stream",
     "text": [
      "C:\\Users\\ksvorcan\\AppData\\Local\\Continuum\\anaconda3\\lib\\site-packages\\ipykernel_launcher.py:1: DeprecationWarning: Call to deprecated `most_similar` (Method will be removed in 4.0.0, use self.wv.most_similar() instead).\n",
      "  \"\"\"Entry point for launching an IPython kernel.\n",
      "C:\\Users\\ksvorcan\\AppData\\Local\\Continuum\\anaconda3\\lib\\site-packages\\gensim\\matutils.py:737: FutureWarning: Conversion of the second argument of issubdtype from `int` to `np.signedinteger` is deprecated. In future, it will be treated as `np.int32 == np.dtype(int).type`.\n",
      "  if np.issubdtype(vec.dtype, np.int):\n"
     ]
    },
    {
     "data": {
      "text/plain": [
       "[('predsednik', 0.5282397270202637),\n",
       " ('on', 0.44468262791633606),\n",
       " ('busas', 0.44397565722465515),\n",
       " ('ejjj', 0.42289167642593384),\n",
       " ('vuci', 0.41923248767852783),\n",
       " ('teniserima', 0.40883034467697144),\n",
       " ('pojedinac', 0.40017959475517273),\n",
       " ('bonus', 0.3976319134235382),\n",
       " ('pegovaranja', 0.3960815966129303),\n",
       " ('konfliktom', 0.3928396999835968)]"
      ]
     },
     "execution_count": 10,
     "metadata": {},
     "output_type": "execute_result"
    }
   ],
   "source": [
    "tweet_w2v_cbow.most_similar(\"vucic\")"
   ]
  },
  {
   "cell_type": "code",
   "execution_count": 11,
   "metadata": {},
   "outputs": [
    {
     "name": "stderr",
     "output_type": "stream",
     "text": [
      "C:\\Users\\ksvorcan\\AppData\\Local\\Continuum\\anaconda3\\lib\\site-packages\\ipykernel_launcher.py:1: DeprecationWarning: Call to deprecated `most_similar` (Method will be removed in 4.0.0, use self.wv.most_similar() instead).\n",
      "  \"\"\"Entry point for launching an IPython kernel.\n",
      "C:\\Users\\ksvorcan\\AppData\\Local\\Continuum\\anaconda3\\lib\\site-packages\\gensim\\matutils.py:737: FutureWarning: Conversion of the second argument of issubdtype from `int` to `np.signedinteger` is deprecated. In future, it will be treated as `np.int32 == np.dtype(int).type`.\n",
      "  if np.issubdtype(vec.dtype, np.int):\n"
     ]
    },
    {
     "data": {
      "text/plain": [
       "[('vuk', 0.5676205158233643),\n",
       " ('jankovic', 0.530922532081604),\n",
       " ('tadic', 0.5125159025192261),\n",
       " ('fra', 0.4520730972290039),\n",
       " ('vidljivo', 0.4389224648475647),\n",
       " ('pricali', 0.4286049008369446),\n",
       " ('#koridor10', 0.42621392011642456),\n",
       " ('pobjegao', 0.42338794469833374),\n",
       " ('jeremic', 0.42196008563041687),\n",
       " ('dragoljub', 0.41910508275032043)]"
      ]
     },
     "execution_count": 11,
     "metadata": {},
     "output_type": "execute_result"
    }
   ],
   "source": [
    "tweet_w2v_cbow.most_similar(\"djilas\")"
   ]
  },
  {
   "cell_type": "code",
   "execution_count": 30,
   "metadata": {},
   "outputs": [
    {
     "data": {
      "text/plain": [
       "[('sad', 0.00018446485),\n",
       " ('onda', 0.0001317382),\n",
       " ('mozda', 0.000107097316),\n",
       " ('dalje', 0.00010132005),\n",
       " ('opet', 9.2706265e-05),\n",
       " ('to', 8.89448e-05),\n",
       " ('e', 7.846637e-05),\n",
       " ('pricao', 7.54253e-05),\n",
       " ('sada', 7.265975e-05),\n",
       " ('cak', 7.237755e-05)]"
      ]
     },
     "execution_count": 30,
     "metadata": {},
     "output_type": "execute_result"
    }
   ],
   "source": [
    "tweet_w2v_cbow.predict_output_word(\"granice ce biti\")"
   ]
  },
  {
   "cell_type": "code",
   "execution_count": 21,
   "metadata": {},
   "outputs": [
    {
     "name": "stderr",
     "output_type": "stream",
     "text": [
      "C:\\Users\\ksvorcan\\AppData\\Local\\Continuum\\anaconda3\\lib\\site-packages\\ipykernel_launcher.py:1: DeprecationWarning: Call to deprecated `most_similar` (Method will be removed in 4.0.0, use self.wv.most_similar() instead).\n",
      "  \"\"\"Entry point for launching an IPython kernel.\n",
      "C:\\Users\\ksvorcan\\AppData\\Local\\Continuum\\anaconda3\\lib\\site-packages\\gensim\\matutils.py:737: FutureWarning: Conversion of the second argument of issubdtype from `int` to `np.signedinteger` is deprecated. In future, it will be treated as `np.int32 == np.dtype(int).type`.\n",
      "  if np.issubdtype(vec.dtype, np.int):\n"
     ]
    },
    {
     "data": {
      "text/plain": [
       "[('kim', 0.5982123613357544),\n",
       " ('kosova', 0.5309165716171265),\n",
       " ('albanci', 0.47003114223480225),\n",
       " ('nezavisnost', 0.4641479551792145),\n",
       " ('slobodu', 0.460249125957489),\n",
       " ('on', 0.4456906318664551),\n",
       " ('presevo', 0.42784178256988525),\n",
       " ('nadje', 0.42449072003364563),\n",
       " ('suverenitet', 0.42308902740478516),\n",
       " ('izjavom', 0.4158027172088623)]"
      ]
     },
     "execution_count": 21,
     "metadata": {},
     "output_type": "execute_result"
    }
   ],
   "source": [
    "tweet_w2v_cbow.most_similar(\"kosovo\")"
   ]
  },
  {
   "cell_type": "code",
   "execution_count": 22,
   "metadata": {},
   "outputs": [
    {
     "data": {
      "text/plain": [
       "124022"
      ]
     },
     "execution_count": 22,
     "metadata": {},
     "output_type": "execute_result"
    }
   ],
   "source": [
    "tweet_w2v_cbow.corpus_count"
   ]
  },
  {
   "cell_type": "code",
   "execution_count": null,
   "metadata": {
    "scrolled": true
   },
   "outputs": [],
   "source": []
  },
  {
   "cell_type": "markdown",
   "metadata": {},
   "source": [
    "Learning Word2vec model - Skipgram based"
   ]
  },
  {
   "cell_type": "code",
   "execution_count": 23,
   "metadata": {},
   "outputs": [],
   "source": [
    "tweet_w2v_skipgram = Word2Vec(\n",
    "        sentences,\n",
    "        size=300,\n",
    "        window=5,\n",
    "        min_count=1,\n",
    "        workers=10,\n",
    "        sg = 1)"
   ]
  },
  {
   "cell_type": "code",
   "execution_count": 24,
   "metadata": {},
   "outputs": [
    {
     "name": "stderr",
     "output_type": "stream",
     "text": [
      "C:\\Users\\ksvorcan\\AppData\\Local\\Continuum\\anaconda3\\lib\\site-packages\\ipykernel_launcher.py:1: DeprecationWarning: Call to deprecated `most_similar` (Method will be removed in 4.0.0, use self.wv.most_similar() instead).\n",
      "  \"\"\"Entry point for launching an IPython kernel.\n",
      "C:\\Users\\ksvorcan\\AppData\\Local\\Continuum\\anaconda3\\lib\\site-packages\\gensim\\matutils.py:737: FutureWarning: Conversion of the second argument of issubdtype from `int` to `np.signedinteger` is deprecated. In future, it will be treated as `np.int32 == np.dtype(int).type`.\n",
      "  if np.issubdtype(vec.dtype, np.int):\n"
     ]
    },
    {
     "data": {
      "text/plain": [
       "[('aleksandar', 0.4614197015762329),\n",
       " ('hrabrosti', 0.42275193333625793),\n",
       " ('namerom', 0.40772008895874023),\n",
       " ('cestitao', 0.40470972657203674),\n",
       " ('iznese', 0.4021710455417633),\n",
       " ('decji', 0.4000522792339325),\n",
       " ('neuporedivo', 0.3986503779888153),\n",
       " ('ugnjaviti', 0.398624062538147),\n",
       " ('setio', 0.39699786901474),\n",
       " ('ciljevi', 0.39560672640800476)]"
      ]
     },
     "execution_count": 24,
     "metadata": {},
     "output_type": "execute_result"
    }
   ],
   "source": [
    "tweet_w2v_skipgram.most_similar(\"vucic\")"
   ]
  },
  {
   "cell_type": "code",
   "execution_count": 25,
   "metadata": {},
   "outputs": [
    {
     "name": "stderr",
     "output_type": "stream",
     "text": [
      "C:\\Users\\ksvorcan\\AppData\\Local\\Continuum\\anaconda3\\lib\\site-packages\\ipykernel_launcher.py:1: DeprecationWarning: Call to deprecated `most_similar` (Method will be removed in 4.0.0, use self.wv.most_similar() instead).\n",
      "  \"\"\"Entry point for launching an IPython kernel.\n",
      "C:\\Users\\ksvorcan\\AppData\\Local\\Continuum\\anaconda3\\lib\\site-packages\\gensim\\matutils.py:737: FutureWarning: Conversion of the second argument of issubdtype from `int` to `np.signedinteger` is deprecated. In future, it will be treated as `np.int32 == np.dtype(int).type`.\n",
      "  if np.issubdtype(vec.dtype, np.int):\n"
     ]
    },
    {
     "data": {
      "text/plain": [
       "[('tajkun', 0.5409117341041565),\n",
       " ('jeremic', 0.5390247702598572),\n",
       " ('pacoli', 0.5037994384765625),\n",
       " ('obradovic', 0.49901652336120605),\n",
       " ('ljoticevac', 0.49853822588920593),\n",
       " ('gojkovica', 0.49484890699386597),\n",
       " ('svestenika', 0.48786216974258423),\n",
       " ('stefanovic', 0.4867296516895294),\n",
       " ('muljator', 0.483015239238739),\n",
       " ('milenko', 0.4827648997306824)]"
      ]
     },
     "execution_count": 25,
     "metadata": {},
     "output_type": "execute_result"
    }
   ],
   "source": [
    "tweet_w2v_skipgram.most_similar(\"djilas\")"
   ]
  },
  {
   "cell_type": "code",
   "execution_count": 27,
   "metadata": {
    "collapsed": true
   },
   "outputs": [
    {
     "name": "stderr",
     "output_type": "stream",
     "text": [
      "C:\\Users\\ksvorcan\\AppData\\Local\\Continuum\\anaconda3\\lib\\site-packages\\ipykernel_launcher.py:1: DeprecationWarning: Call to deprecated `syn0` (Attribute will be removed in 4.0.0, use self.wv.vectors instead).\n",
      "  \"\"\"Entry point for launching an IPython kernel.\n"
     ]
    }
   ],
   "source": [
    "pretrained_weights = tweet_w2v_cbow.wv.syn0\n",
    "vocab_size, embedding_size = pretrained_weights.shape"
   ]
  },
  {
   "cell_type": "code",
   "execution_count": 28,
   "metadata": {},
   "outputs": [],
   "source": [
    "max_features = vocab_size\n",
    "tokenizer = Tokenizer(num_words=max_features, split=' ')\n",
    "tokenizer.fit_on_texts(data['text'])\n",
    "X = tokenizer.texts_to_sequences(data['text'])\n",
    "X = pad_sequences(X)\n",
    "\n",
    "Y = pd.get_dummies(data['label']).values"
   ]
  },
  {
   "cell_type": "code",
   "execution_count": null,
   "metadata": {},
   "outputs": [],
   "source": []
  },
  {
   "cell_type": "markdown",
   "metadata": {},
   "source": [
    "Training recurrent neural network"
   ]
  },
  {
   "cell_type": "code",
   "execution_count": 29,
   "metadata": {},
   "outputs": [
    {
     "name": "stdout",
     "output_type": "stream",
     "text": [
      "(1281, 59) (1281, 2)\n",
      "(631, 59) (631, 2)\n"
     ]
    }
   ],
   "source": [
    "X_train, X_test, Y_train, Y_test = train_test_split(X,Y, test_size = 0.33, random_state = 42)\n",
    "print(X_train.shape,Y_train.shape)\n",
    "print(X_test.shape,Y_test.shape)"
   ]
  },
  {
   "cell_type": "code",
   "execution_count": 34,
   "metadata": {},
   "outputs": [],
   "source": [
    "model = Sequential()\n",
    "model.add(Embedding(input_dim = vocab_size,output_dim= embedding_size,input_length = X.shape[1], weights=[pretrained_weights]))\n",
    "model.add(SpatialDropout1D(0.4))\n",
    "model.add(LSTM(5, dropout=0.2, recurrent_dropout=0.2))\n",
    "model.add(Dense(2,activation='softmax'))\n",
    "model.compile(loss = 'binary_crossentropy', optimizer='adam',metrics = ['accuracy'])"
   ]
  },
  {
   "cell_type": "code",
   "execution_count": 45,
   "metadata": {},
   "outputs": [],
   "source": []
  },
  {
   "cell_type": "code",
   "execution_count": 35,
   "metadata": {},
   "outputs": [
    {
     "name": "stdout",
     "output_type": "stream",
     "text": [
      "Epoch 1/20\n",
      " - 22s - loss: 0.7285 - acc: 0.4945\n",
      "Epoch 2/20\n",
      " - 20s - loss: 0.6987 - acc: 0.5406\n",
      "Epoch 3/20\n",
      " - 20s - loss: 0.6928 - acc: 0.5390\n",
      "Epoch 4/20\n",
      " - 20s - loss: 0.6726 - acc: 0.6007\n",
      "Epoch 5/20\n",
      " - 21s - loss: 0.6634 - acc: 0.5913\n",
      "Epoch 6/20\n",
      " - 20s - loss: 0.6510 - acc: 0.6272\n",
      "Epoch 7/20\n",
      " - 20s - loss: 0.6337 - acc: 0.6577\n",
      "Epoch 8/20\n",
      " - 20s - loss: 0.5977 - acc: 0.7045\n",
      "Epoch 9/20\n",
      " - 20s - loss: 0.5769 - acc: 0.7123\n",
      "Epoch 10/20\n",
      " - 21s - loss: 0.5329 - acc: 0.7521\n",
      "Epoch 11/20\n",
      " - 20s - loss: 0.4974 - acc: 0.7818\n",
      "Epoch 12/20\n",
      " - 21s - loss: 0.4337 - acc: 0.8138\n",
      "Epoch 13/20\n",
      " - 21s - loss: 0.3661 - acc: 0.8599\n",
      "Epoch 14/20\n",
      " - 21s - loss: 0.3492 - acc: 0.8630\n",
      "Epoch 15/20\n",
      " - 21s - loss: 0.2979 - acc: 0.8880\n",
      "Epoch 16/20\n",
      " - 21s - loss: 0.2520 - acc: 0.9075\n",
      "Epoch 17/20\n",
      " - 21s - loss: 0.2264 - acc: 0.9184\n",
      "Epoch 18/20\n",
      " - 22s - loss: 0.1909 - acc: 0.9325\n",
      "Epoch 19/20\n",
      " - 21s - loss: 0.1637 - acc: 0.9465\n",
      "Epoch 20/20\n",
      " - 20s - loss: 0.1630 - acc: 0.9387\n"
     ]
    },
    {
     "data": {
      "text/plain": [
       "<keras.callbacks.History at 0x10ce6080>"
      ]
     },
     "execution_count": 35,
     "metadata": {},
     "output_type": "execute_result"
    }
   ],
   "source": [
    "batch_size = 32\n",
    "model.fit(X_train, Y_train, epochs = 20, batch_size=batch_size, verbose = 2)"
   ]
  },
  {
   "cell_type": "code",
   "execution_count": 36,
   "metadata": {},
   "outputs": [],
   "source": [
    "score,acc = model.evaluate(X_test, Y_test, verbose = 2, batch_size = batch_size)"
   ]
  },
  {
   "cell_type": "code",
   "execution_count": 37,
   "metadata": {
    "scrolled": true
   },
   "outputs": [
    {
     "data": {
      "text/plain": [
       "(0.6171741875718022, 0.7369255141108614)"
      ]
     },
     "execution_count": 37,
     "metadata": {},
     "output_type": "execute_result"
    }
   ],
   "source": [
    "score, acc"
   ]
  },
  {
   "cell_type": "code",
   "execution_count": 7,
   "metadata": {},
   "outputs": [
    {
     "name": "stdout",
     "output_type": "stream",
     "text": [
      "_________________________________________________________________\n",
      "Layer (type)                 Output Shape              Param #   \n",
      "=================================================================\n",
      "embedding_3 (Embedding)      (None, 59, 300)           14569800  \n",
      "_________________________________________________________________\n",
      "spatial_dropout1d_3 (Spatial (None, 59, 300)           0         \n",
      "_________________________________________________________________\n",
      "lstm_3 (LSTM)                (None, 5)                 6120      \n",
      "_________________________________________________________________\n",
      "dense_7 (Dense)              (None, 2)                 12        \n",
      "=================================================================\n",
      "Total params: 14,575,932\n",
      "Trainable params: 14,575,932\n",
      "Non-trainable params: 0\n",
      "_________________________________________________________________\n",
      "None\n"
     ]
    }
   ],
   "source": [
    "print(model.summary())"
   ]
  },
  {
   "cell_type": "code",
   "execution_count": 52,
   "metadata": {},
   "outputs": [],
   "source": [
    "\n",
    "model.save('model.h5') "
   ]
  },
  {
   "cell_type": "code",
   "execution_count": 3,
   "metadata": {},
   "outputs": [],
   "source": [
    "model = load_model('model.h5')\n"
   ]
  },
  {
   "cell_type": "code",
   "execution_count": 23,
   "metadata": {},
   "outputs": [
    {
     "data": {
      "text/plain": [
       "(3, 59)"
      ]
     },
     "execution_count": 23,
     "metadata": {},
     "output_type": "execute_result"
    }
   ],
   "source": [
    "new_tweet=np.array(['Zemlja napreduje uz naseg predsednika','Ova vlast je katastrofa','Zuti lopovi opet hoce vlast'])\n",
    "new_tweet=(tokenizer.texts_to_sequences(new_tweet))\n",
    "new_tweet=pad_sequences(new_tweet,maxlen=X.shape[1])\n",
    "new_tweet.shape"
   ]
  },
  {
   "cell_type": "code",
   "execution_count": 25,
   "metadata": {
    "scrolled": true
   },
   "outputs": [
    {
     "data": {
      "text/plain": [
       "array([[0.00764186, 0.99235815],\n",
       "       [0.83877677, 0.16122325],\n",
       "       [0.12373045, 0.8762695 ]], dtype=float32)"
      ]
     },
     "execution_count": 25,
     "metadata": {},
     "output_type": "execute_result"
    }
   ],
   "source": [
    "model.predict(new_tweet)"
   ]
  },
  {
   "cell_type": "code",
   "execution_count": null,
   "metadata": {},
   "outputs": [],
   "source": []
  },
  {
   "cell_type": "markdown",
   "metadata": {},
   "source": [
    "Training neural network using mean summarization"
   ]
  },
  {
   "cell_type": "code",
   "execution_count": 24,
   "metadata": {},
   "outputs": [
    {
     "name": "stderr",
     "output_type": "stream",
     "text": [
      "C:\\Users\\ksvorcan\\AppData\\Local\\Continuum\\anaconda3\\lib\\site-packages\\ipykernel_launcher.py:3: RuntimeWarning: Mean of empty slice.\n",
      "  This is separate from the ipykernel package so we can avoid doing imports until\n",
      "C:\\Users\\ksvorcan\\AppData\\Local\\Continuum\\anaconda3\\lib\\site-packages\\numpy\\core\\_methods.py:73: RuntimeWarning: invalid value encountered in true_divide\n",
      "  ret, rcount, out=ret, casting='unsafe', subok=False)\n"
     ]
    }
   ],
   "source": [
    "X1_mean_summarized = pd.DataFrame()\n",
    "for sentence in X:\n",
    "    X1_mean_summarized = X1_mean_summarized.append(pd.DataFrame(pretrained_weights[sentence[sentence > 0]].mean(axis = 0)).transpose())\n",
    "X_mean_summarized = X1_mean_summarized.dropna()"
   ]
  },
  {
   "cell_type": "code",
   "execution_count": 26,
   "metadata": {},
   "outputs": [],
   "source": [
    "X_mean_summarized_train, X_mean_summarized_test, Y_mean_summarized_train, Y_mean_summarized_test = train_test_split(X_mean_summarized,Y[X1_mean_summarized.max(axis=1)>0], test_size = 0.33, random_state = 42)"
   ]
  },
  {
   "cell_type": "code",
   "execution_count": null,
   "metadata": {},
   "outputs": [],
   "source": []
  },
  {
   "cell_type": "code",
   "execution_count": 27,
   "metadata": {},
   "outputs": [],
   "source": [
    "model = Sequential()\n",
    "model.add(Dense(20,activation = \"relu\", input_dim = 300))\n",
    "model.add(Dense(2,activation = \"softmax\"))\n",
    "model.compile(optimizer='adam',loss='binary_crossentropy',metrics=['accuracy'])"
   ]
  },
  {
   "cell_type": "code",
   "execution_count": 28,
   "metadata": {
    "scrolled": true
   },
   "outputs": [
    {
     "name": "stdout",
     "output_type": "stream",
     "text": [
      "Epoch 1/20\n",
      " - 0s - loss: 0.6659 - acc: 0.5789\n",
      "Epoch 2/20\n",
      " - 0s - loss: 0.6189 - acc: 0.6484\n",
      "Epoch 3/20\n",
      " - 0s - loss: 0.5944 - acc: 0.6744\n",
      "Epoch 4/20\n",
      " - 0s - loss: 0.5812 - acc: 0.6894\n",
      "Epoch 5/20\n",
      " - 0s - loss: 0.5620 - acc: 0.7084\n",
      "Epoch 6/20\n",
      " - 0s - loss: 0.5503 - acc: 0.7170\n",
      "Epoch 7/20\n",
      " - 0s - loss: 0.5379 - acc: 0.7313\n",
      "Epoch 8/20\n",
      " - 0s - loss: 0.5252 - acc: 0.7368\n",
      "Epoch 9/20\n",
      " - 0s - loss: 0.5227 - acc: 0.7313\n",
      "Epoch 10/20\n",
      " - 0s - loss: 0.5109 - acc: 0.7407\n",
      "Epoch 11/20\n",
      " - 0s - loss: 0.5039 - acc: 0.7486\n",
      "Epoch 12/20\n",
      " - 0s - loss: 0.4924 - acc: 0.7589\n",
      "Epoch 13/20\n",
      " - 0s - loss: 0.4917 - acc: 0.7502\n",
      "Epoch 14/20\n",
      " - 0s - loss: 0.4764 - acc: 0.7794\n",
      "Epoch 15/20\n",
      " - 0s - loss: 0.4715 - acc: 0.7715\n",
      "Epoch 16/20\n",
      " - 0s - loss: 0.4682 - acc: 0.7597\n",
      "Epoch 17/20\n",
      " - 0s - loss: 0.4588 - acc: 0.7865\n",
      "Epoch 18/20\n",
      " - 0s - loss: 0.4494 - acc: 0.7928\n",
      "Epoch 19/20\n",
      " - 0s - loss: 0.4445 - acc: 0.7873\n",
      "Epoch 20/20\n",
      " - 0s - loss: 0.4387 - acc: 0.7920\n"
     ]
    },
    {
     "data": {
      "text/plain": [
       "<keras.callbacks.History at 0x1a7b6ac8>"
      ]
     },
     "execution_count": 28,
     "metadata": {},
     "output_type": "execute_result"
    }
   ],
   "source": [
    "batch_size = 32\n",
    "model.fit(X_mean_summarized_train, Y_mean_summarized_train, epochs = 20, batch_size=batch_size, verbose = 2)"
   ]
  },
  {
   "cell_type": "code",
   "execution_count": 29,
   "metadata": {},
   "outputs": [],
   "source": [
    "score,acc = model.evaluate(X_mean_summarized_test, Y_mean_summarized_test, verbose = 2, batch_size = batch_size)"
   ]
  },
  {
   "cell_type": "code",
   "execution_count": 30,
   "metadata": {},
   "outputs": [
    {
     "data": {
      "text/plain": [
       "(0.5935092767715454, 0.7008000004768371)"
      ]
     },
     "execution_count": 30,
     "metadata": {},
     "output_type": "execute_result"
    }
   ],
   "source": [
    "score, acc"
   ]
  },
  {
   "cell_type": "markdown",
   "metadata": {},
   "source": [
    "Training neural network using max summarization"
   ]
  },
  {
   "cell_type": "code",
   "execution_count": 31,
   "metadata": {},
   "outputs": [],
   "source": [
    "X1_max_summarized = pd.DataFrame()\n",
    "for sentence in X[X1_mean_summarized.max(axis=1)>0]:\n",
    "    X1_max_summarized = X1_max_summarized.append(pd.DataFrame(pretrained_weights[sentence[sentence > 0]].max(axis = 0)).transpose())\n",
    "X_max_summarized = X1_max_summarized.dropna()"
   ]
  },
  {
   "cell_type": "code",
   "execution_count": 32,
   "metadata": {
    "scrolled": true
   },
   "outputs": [],
   "source": [
    "X_max_summarized_train, X_max_summarized_test, Y_max_summarized_train, Y_max_summarized_test = train_test_split(X_max_summarized,Y[X1_mean_summarized.max(axis=1)>0], test_size = 0.33, random_state = 42)"
   ]
  },
  {
   "cell_type": "code",
   "execution_count": 12,
   "metadata": {},
   "outputs": [],
   "source": [
    "model = Sequential()\n",
    "model.add(Dense(20,activation = \"relu\", input_dim = 300))\n",
    "model.add(Dense(2,activation = \"softmax\"))\n",
    "model.compile(optimizer='adam',loss='binary_crossentropy',metrics=['accuracy'])"
   ]
  },
  {
   "cell_type": "code",
   "execution_count": 14,
   "metadata": {},
   "outputs": [
    {
     "name": "stdout",
     "output_type": "stream",
     "text": [
      "_________________________________________________________________\n",
      "Layer (type)                 Output Shape              Param #   \n",
      "=================================================================\n",
      "dense_1 (Dense)              (None, 20)                6020      \n",
      "_________________________________________________________________\n",
      "dense_2 (Dense)              (None, 2)                 42        \n",
      "=================================================================\n",
      "Total params: 6,062\n",
      "Trainable params: 6,062\n",
      "Non-trainable params: 0\n",
      "_________________________________________________________________\n",
      "None\n"
     ]
    }
   ],
   "source": [
    "print(model.summary())"
   ]
  },
  {
   "cell_type": "code",
   "execution_count": 37,
   "metadata": {},
   "outputs": [
    {
     "name": "stdout",
     "output_type": "stream",
     "text": [
      "Epoch 1/100\n",
      " - 0s - loss: 0.4827 - acc: 0.7778\n",
      "Epoch 2/100\n",
      " - 0s - loss: 0.4811 - acc: 0.7699\n",
      "Epoch 3/100\n",
      " - 0s - loss: 0.4749 - acc: 0.7810\n",
      "Epoch 4/100\n",
      " - 0s - loss: 0.4717 - acc: 0.7849\n",
      "Epoch 5/100\n",
      " - 0s - loss: 0.4623 - acc: 0.7952\n",
      "Epoch 6/100\n",
      " - 0s - loss: 0.4833 - acc: 0.7778\n",
      "Epoch 7/100\n",
      " - 0s - loss: 0.4648 - acc: 0.7810\n",
      "Epoch 8/100\n",
      " - 0s - loss: 0.4760 - acc: 0.7747\n",
      "Epoch 9/100\n",
      " - 0s - loss: 0.4707 - acc: 0.7794\n",
      "Epoch 10/100\n",
      " - 0s - loss: 0.4684 - acc: 0.7881\n",
      "Epoch 11/100\n",
      " - 0s - loss: 0.4545 - acc: 0.7857\n",
      "Epoch 12/100\n",
      " - 0s - loss: 0.4586 - acc: 0.7897\n",
      "Epoch 13/100\n",
      " - 0s - loss: 0.4697 - acc: 0.7762\n",
      "Epoch 14/100\n",
      " - 0s - loss: 0.4483 - acc: 0.7936\n",
      "Epoch 15/100\n",
      " - 0s - loss: 0.4690 - acc: 0.7668\n",
      "Epoch 16/100\n",
      " - 0s - loss: 0.4380 - acc: 0.8086\n",
      "Epoch 17/100\n",
      " - 0s - loss: 0.4370 - acc: 0.8039\n",
      "Epoch 18/100\n",
      " - 0s - loss: 0.4566 - acc: 0.7865\n",
      "Epoch 19/100\n",
      " - 0s - loss: 0.4467 - acc: 0.7904\n",
      "Epoch 20/100\n",
      " - 0s - loss: 0.4346 - acc: 0.8062\n",
      "Epoch 21/100\n",
      " - 0s - loss: 0.4395 - acc: 0.8047\n",
      "Epoch 22/100\n",
      " - 0s - loss: 0.4370 - acc: 0.7976\n",
      "Epoch 23/100\n",
      " - 0s - loss: 0.4569 - acc: 0.7826\n",
      "Epoch 24/100\n",
      " - 0s - loss: 0.4262 - acc: 0.8133\n",
      "Epoch 25/100\n",
      " - 0s - loss: 0.4249 - acc: 0.8031\n",
      "Epoch 26/100\n",
      " - 0s - loss: 0.4226 - acc: 0.8094\n",
      "Epoch 27/100\n",
      " - 0s - loss: 0.4521 - acc: 0.8023\n",
      "Epoch 28/100\n",
      " - 0s - loss: 0.4612 - acc: 0.7928\n",
      "Epoch 29/100\n",
      " - 0s - loss: 0.4439 - acc: 0.7999\n",
      "Epoch 30/100\n",
      " - 0s - loss: 0.4180 - acc: 0.8181\n",
      "Epoch 31/100\n",
      " - 0s - loss: 0.4229 - acc: 0.8118\n",
      "Epoch 32/100\n",
      " - 0s - loss: 0.4534 - acc: 0.7976\n",
      "Epoch 33/100\n",
      " - 0s - loss: 0.4082 - acc: 0.8212\n",
      "Epoch 34/100\n",
      " - 0s - loss: 0.4108 - acc: 0.8197\n",
      "Epoch 35/100\n",
      " - 0s - loss: 0.4210 - acc: 0.8086\n",
      "Epoch 36/100\n",
      " - 0s - loss: 0.4440 - acc: 0.8007\n",
      "Epoch 37/100\n",
      " - 0s - loss: 0.4192 - acc: 0.8102\n",
      "Epoch 38/100\n",
      " - 0s - loss: 0.3995 - acc: 0.8252\n",
      "Epoch 39/100\n",
      " - 0s - loss: 0.4132 - acc: 0.8165\n",
      "Epoch 40/100\n",
      " - 0s - loss: 0.4463 - acc: 0.7952\n",
      "Epoch 41/100\n",
      " - 0s - loss: 0.4096 - acc: 0.8244\n",
      "Epoch 42/100\n",
      " - 0s - loss: 0.3883 - acc: 0.8362\n",
      "Epoch 43/100\n",
      " - 0s - loss: 0.3981 - acc: 0.8315\n",
      "Epoch 44/100\n",
      " - 0s - loss: 0.4101 - acc: 0.8094\n",
      "Epoch 45/100\n",
      " - 0s - loss: 0.3932 - acc: 0.8323\n",
      "Epoch 46/100\n",
      " - 0s - loss: 0.3890 - acc: 0.8299\n",
      "Epoch 47/100\n",
      " - 0s - loss: 0.3926 - acc: 0.8275\n",
      "Epoch 48/100\n",
      " - 0s - loss: 0.4034 - acc: 0.8173\n",
      "Epoch 49/100\n",
      " - 0s - loss: 0.3839 - acc: 0.8339\n",
      "Epoch 50/100\n",
      " - 0s - loss: 0.4131 - acc: 0.8141\n",
      "Epoch 51/100\n",
      " - 0s - loss: 0.3795 - acc: 0.8402\n",
      "Epoch 52/100\n",
      " - 0s - loss: 0.3956 - acc: 0.8197\n",
      "Epoch 53/100\n",
      " - 0s - loss: 0.3681 - acc: 0.8346\n",
      "Epoch 54/100\n",
      " - 0s - loss: 0.3807 - acc: 0.8299\n",
      "Epoch 55/100\n",
      " - 0s - loss: 0.3742 - acc: 0.8331\n",
      "Epoch 56/100\n",
      " - 0s - loss: 0.4068 - acc: 0.8149\n",
      "Epoch 57/100\n",
      " - 0s - loss: 0.3883 - acc: 0.8260\n",
      "Epoch 58/100\n",
      " - 0s - loss: 0.3702 - acc: 0.8354\n",
      "Epoch 59/100\n",
      " - 0s - loss: 0.3804 - acc: 0.8386\n",
      "Epoch 60/100\n",
      " - 0s - loss: 0.3691 - acc: 0.8331\n",
      "Epoch 61/100\n",
      " - 0s - loss: 0.3690 - acc: 0.8394\n",
      "Epoch 62/100\n",
      " - 0s - loss: 0.3763 - acc: 0.8378\n",
      "Epoch 63/100\n",
      " - 0s - loss: 0.3722 - acc: 0.8331\n",
      "Epoch 64/100\n",
      " - 0s - loss: 0.3455 - acc: 0.8536\n",
      "Epoch 65/100\n",
      " - 0s - loss: 0.3550 - acc: 0.8362\n",
      "Epoch 66/100\n",
      " - 0s - loss: 0.3405 - acc: 0.8481\n",
      "Epoch 67/100\n",
      " - 0s - loss: 0.3644 - acc: 0.8394\n",
      "Epoch 68/100\n",
      " - 0s - loss: 0.3483 - acc: 0.8504\n",
      "Epoch 69/100\n",
      " - 0s - loss: 0.3692 - acc: 0.8418\n",
      "Epoch 70/100\n",
      " - 0s - loss: 0.3348 - acc: 0.8599\n",
      "Epoch 71/100\n",
      " - 0s - loss: 0.3436 - acc: 0.8481\n",
      "Epoch 72/100\n",
      " - 0s - loss: 0.3271 - acc: 0.8607\n",
      "Epoch 73/100\n",
      " - 0s - loss: 0.3441 - acc: 0.8504\n",
      "Epoch 74/100\n",
      " - 0s - loss: 0.3242 - acc: 0.8623\n",
      "Epoch 75/100\n",
      " - 0s - loss: 0.3285 - acc: 0.8591\n",
      "Epoch 76/100\n",
      " - 0s - loss: 0.3205 - acc: 0.8575\n",
      "Epoch 77/100\n",
      " - 0s - loss: 0.3219 - acc: 0.8583\n",
      "Epoch 78/100\n",
      " - 0s - loss: 0.3407 - acc: 0.8425\n",
      "Epoch 79/100\n",
      " - 0s - loss: 0.3456 - acc: 0.8520\n",
      "Epoch 80/100\n",
      " - 0s - loss: 0.3254 - acc: 0.8615\n",
      "Epoch 81/100\n",
      " - 0s - loss: 0.3408 - acc: 0.8599\n",
      "Epoch 82/100\n",
      " - 0s - loss: 0.3159 - acc: 0.8544\n",
      "Epoch 83/100\n",
      " - 0s - loss: 0.3130 - acc: 0.8741\n",
      "Epoch 84/100\n",
      " - 0s - loss: 0.3320 - acc: 0.8481\n",
      "Epoch 85/100\n",
      " - 0s - loss: 0.3215 - acc: 0.8567\n",
      "Epoch 86/100\n",
      " - 0s - loss: 0.3712 - acc: 0.8291\n",
      "Epoch 87/100\n",
      " - 0s - loss: 0.3231 - acc: 0.8575\n",
      "Epoch 88/100\n",
      " - 0s - loss: 0.3064 - acc: 0.8654\n",
      "Epoch 89/100\n",
      " - 0s - loss: 0.3309 - acc: 0.8504\n",
      "Epoch 90/100\n",
      " - 0s - loss: 0.3185 - acc: 0.8528\n",
      "Epoch 91/100\n",
      " - 0s - loss: 0.3158 - acc: 0.8591\n",
      "Epoch 92/100\n",
      " - 0s - loss: 0.3038 - acc: 0.8678\n",
      "Epoch 93/100\n",
      " - 0s - loss: 0.2895 - acc: 0.8710\n",
      "Epoch 94/100\n",
      " - 0s - loss: 0.2869 - acc: 0.8867\n",
      "Epoch 95/100\n",
      " - 0s - loss: 0.2783 - acc: 0.8828\n",
      "Epoch 96/100\n",
      " - 0s - loss: 0.2762 - acc: 0.8796\n",
      "Epoch 97/100\n",
      " - 0s - loss: 0.2810 - acc: 0.8757\n",
      "Epoch 98/100\n",
      " - 0s - loss: 0.2802 - acc: 0.8867\n",
      "Epoch 99/100\n",
      " - 0s - loss: 0.2776 - acc: 0.8836\n",
      "Epoch 100/100\n",
      " - 0s - loss: 0.3014 - acc: 0.8678\n"
     ]
    },
    {
     "data": {
      "text/plain": [
       "<keras.callbacks.History at 0x415b93c8>"
      ]
     },
     "execution_count": 37,
     "metadata": {},
     "output_type": "execute_result"
    }
   ],
   "source": [
    "batch_size = 32\n",
    "model.fit(X_max_summarized_train, Y_max_summarized_train, epochs = 100, batch_size=batch_size, verbose = 2)"
   ]
  },
  {
   "cell_type": "code",
   "execution_count": 38,
   "metadata": {},
   "outputs": [],
   "source": [
    "score,acc = model.evaluate(X_max_summarized_test, Y_max_summarized_test, verbose = 2, batch_size = batch_size)"
   ]
  },
  {
   "cell_type": "code",
   "execution_count": 39,
   "metadata": {},
   "outputs": [
    {
     "data": {
      "text/plain": [
       "(0.7004182025909423, 0.7008000005722046)"
      ]
     },
     "execution_count": 39,
     "metadata": {},
     "output_type": "execute_result"
    }
   ],
   "source": [
    "score,acc"
   ]
  },
  {
   "cell_type": "code",
   "execution_count": null,
   "metadata": {},
   "outputs": [],
   "source": []
  },
  {
   "cell_type": "code",
   "execution_count": null,
   "metadata": {},
   "outputs": [],
   "source": []
  }
 ],
 "metadata": {
  "kernelspec": {
   "display_name": "Python 3",
   "language": "python",
   "name": "python3"
  },
  "language_info": {
   "codemirror_mode": {
    "name": "ipython",
    "version": 3
   },
   "file_extension": ".py",
   "mimetype": "text/x-python",
   "name": "python",
   "nbconvert_exporter": "python",
   "pygments_lexer": "ipython3",
   "version": "3.6.4"
  }
 },
 "nbformat": 4,
 "nbformat_minor": 2
}
